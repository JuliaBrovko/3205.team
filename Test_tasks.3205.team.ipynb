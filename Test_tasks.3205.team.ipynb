{
 "cells": [
  {
   "cell_type": "markdown",
   "metadata": {},
   "source": [
    "## Задание 1.1"
   ]
  },
  {
   "cell_type": "markdown",
   "metadata": {},
   "source": [
    "Необходимо рассчитать текущий LTV юзера, используя когортный анализ\n",
    "(cohorting event - оформление пробного периода, когорта представляет собой кол-во\n",
    "возможных операций)"
   ]
  },
  {
   "cell_type": "markdown",
   "metadata": {},
   "source": [
    "Импортирую нужные для работы библиотеки"
   ]
  },
  {
   "cell_type": "code",
   "execution_count": 632,
   "metadata": {},
   "outputs": [],
   "source": [
    "import pandas as pd\n",
    "import seaborn as sns\n",
    "import re\n",
    "from statsmodels.tsa.holtwinters import ExponentialSmoothing\n",
    "import matplotlib.pyplot as plt\n",
    "import numpy as np\n",
    "from sklearn.linear_model import LinearRegression\n",
    "import tools\n",
    "from IPython.display import display\n"
   ]
  },
  {
   "cell_type": "markdown",
   "metadata": {},
   "source": [
    "Считываю ссылку"
   ]
  },
  {
   "cell_type": "code",
   "execution_count": 633,
   "metadata": {},
   "outputs": [],
   "source": [
    "import pandas as pd\n",
    "\n",
    "# Ссылка на таблицу в формате CSV\n",
    "csv_url = \"https://docs.google.com/spreadsheets/d/1eD2fUZUphK4EJmvbQD20pSVi8NMbvNRrOJryE95xRVs/export?format=csv\"\n",
    "\n",
    "# Чтение данных\n",
    "data = pd.read_csv(csv_url)\n"
   ]
  },
  {
   "cell_type": "code",
   "execution_count": 634,
   "metadata": {},
   "outputs": [
    {
     "data": {
      "text/html": [
       "<div>\n",
       "<style scoped>\n",
       "    .dataframe tbody tr th:only-of-type {\n",
       "        vertical-align: middle;\n",
       "    }\n",
       "\n",
       "    .dataframe tbody tr th {\n",
       "        vertical-align: top;\n",
       "    }\n",
       "\n",
       "    .dataframe thead th {\n",
       "        text-align: right;\n",
       "    }\n",
       "</style>\n",
       "<table border=\"1\" class=\"dataframe\">\n",
       "  <thead>\n",
       "    <tr style=\"text-align: right;\">\n",
       "      <th></th>\n",
       "      <th>product_id</th>\n",
       "      <th>quantity</th>\n",
       "      <th>is_trial_period</th>\n",
       "      <th>purchase_date</th>\n",
       "      <th>user_id</th>\n",
       "    </tr>\n",
       "  </thead>\n",
       "  <tbody>\n",
       "    <tr>\n",
       "      <th>0</th>\n",
       "      <td>1week_4.99_USD_subscription_7days_trial</td>\n",
       "      <td>1</td>\n",
       "      <td>False</td>\n",
       "      <td>2/19/2020</td>\n",
       "      <td>9484222</td>\n",
       "    </tr>\n",
       "    <tr>\n",
       "      <th>1</th>\n",
       "      <td>1week_4.99_USD_subscription_7days_trial</td>\n",
       "      <td>1</td>\n",
       "      <td>False</td>\n",
       "      <td>2/17/2020</td>\n",
       "      <td>9422402</td>\n",
       "    </tr>\n",
       "    <tr>\n",
       "      <th>2</th>\n",
       "      <td>1week_4.99_USD_subscription_7days_trial</td>\n",
       "      <td>1</td>\n",
       "      <td>False</td>\n",
       "      <td>2/18/2020</td>\n",
       "      <td>4997991</td>\n",
       "    </tr>\n",
       "    <tr>\n",
       "      <th>3</th>\n",
       "      <td>1week_4.99_USD_subscription_7days_trial</td>\n",
       "      <td>1</td>\n",
       "      <td>False</td>\n",
       "      <td>2/18/2020</td>\n",
       "      <td>9455582</td>\n",
       "    </tr>\n",
       "    <tr>\n",
       "      <th>4</th>\n",
       "      <td>1week_4.99_USD_subscription_7days_trial</td>\n",
       "      <td>1</td>\n",
       "      <td>False</td>\n",
       "      <td>2/16/2020</td>\n",
       "      <td>8803657</td>\n",
       "    </tr>\n",
       "  </tbody>\n",
       "</table>\n",
       "</div>"
      ],
      "text/plain": [
       "                                product_id  quantity  is_trial_period  \\\n",
       "0  1week_4.99_USD_subscription_7days_trial         1            False   \n",
       "1  1week_4.99_USD_subscription_7days_trial         1            False   \n",
       "2  1week_4.99_USD_subscription_7days_trial         1            False   \n",
       "3  1week_4.99_USD_subscription_7days_trial         1            False   \n",
       "4  1week_4.99_USD_subscription_7days_trial         1            False   \n",
       "\n",
       "  purchase_date  user_id  \n",
       "0     2/19/2020  9484222  \n",
       "1     2/17/2020  9422402  \n",
       "2     2/18/2020  4997991  \n",
       "3     2/18/2020  9455582  \n",
       "4     2/16/2020  8803657  "
      ]
     },
     "execution_count": 634,
     "metadata": {},
     "output_type": "execute_result"
    }
   ],
   "source": [
    "data.head()"
   ]
  },
  {
   "cell_type": "markdown",
   "metadata": {},
   "source": [
    "Проведение небольшого EDA"
   ]
  },
  {
   "cell_type": "code",
   "execution_count": 635,
   "metadata": {},
   "outputs": [
    {
     "data": {
      "text/plain": [
       "product_id         0\n",
       "quantity           0\n",
       "is_trial_period    0\n",
       "purchase_date      0\n",
       "user_id            0\n",
       "dtype: int64"
      ]
     },
     "execution_count": 635,
     "metadata": {},
     "output_type": "execute_result"
    }
   ],
   "source": [
    "data.isna().sum()"
   ]
  },
  {
   "cell_type": "code",
   "execution_count": 636,
   "metadata": {},
   "outputs": [
    {
     "data": {
      "text/plain": [
       "np.int64(0)"
      ]
     },
     "execution_count": 636,
     "metadata": {},
     "output_type": "execute_result"
    }
   ],
   "source": [
    "data.duplicated().sum()"
   ]
  },
  {
   "cell_type": "code",
   "execution_count": 637,
   "metadata": {},
   "outputs": [
    {
     "data": {
      "text/plain": [
       "product_id         object\n",
       "quantity            int64\n",
       "is_trial_period      bool\n",
       "purchase_date      object\n",
       "user_id             int64\n",
       "dtype: object"
      ]
     },
     "execution_count": 637,
     "metadata": {},
     "output_type": "execute_result"
    }
   ],
   "source": [
    "data.dtypes"
   ]
  },
  {
   "cell_type": "markdown",
   "metadata": {},
   "source": [
    "Преобразование столбца даты в формат datetime"
   ]
  },
  {
   "cell_type": "code",
   "execution_count": 638,
   "metadata": {},
   "outputs": [],
   "source": [
    "data['purchase_date'] = pd.to_datetime(data['purchase_date'])\n"
   ]
  },
  {
   "cell_type": "code",
   "execution_count": 639,
   "metadata": {},
   "outputs": [
    {
     "data": {
      "text/plain": [
       "is_trial_period\n",
       "False    2399\n",
       "Name: count, dtype: int64"
      ]
     },
     "execution_count": 639,
     "metadata": {},
     "output_type": "execute_result"
    }
   ],
   "source": [
    "data.is_trial_period.value_counts()"
   ]
  },
  {
   "cell_type": "markdown",
   "metadata": {},
   "source": [
    "В таблице содержатся данные только платного периода. "
   ]
  },
  {
   "cell_type": "markdown",
   "metadata": {},
   "source": [
    "Определение когорты. Когорта определяется как дата первого события пользователя. Мы используем группировку по user_id и берем минимальную дату для каждого пользователя, чтобы определить их стартовый период, дату сразу переводим в месяц."
   ]
  },
  {
   "cell_type": "code",
   "execution_count": 640,
   "metadata": {},
   "outputs": [],
   "source": [
    "data['cohort'] = data.groupby('user_id')['purchase_date'].transform('min').dt.to_period('M')\n"
   ]
  },
  {
   "cell_type": "markdown",
   "metadata": {},
   "source": [
    "Выделяем периоды"
   ]
  },
  {
   "cell_type": "code",
   "execution_count": 641,
   "metadata": {},
   "outputs": [],
   "source": [
    "data['period_index'] = (data['purchase_date'].dt.to_period('M') - data['cohort']).apply(lambda x: x.n)"
   ]
  },
  {
   "cell_type": "markdown",
   "metadata": {},
   "source": [
    "Расчет выручки. Цена подписки фиксирована — $4.99 за неделю. Мы умножаем количество (quantity) на эту цену для расчета выручки."
   ]
  },
  {
   "cell_type": "code",
   "execution_count": 642,
   "metadata": {},
   "outputs": [],
   "source": [
    "data['revenue'] = data['quantity'] * 4.99\n"
   ]
  },
  {
   "cell_type": "markdown",
   "metadata": {},
   "source": [
    "Построение когортного анализа.\n",
    "\n",
    "Группировка данных. \n",
    "Мы группируем данные по когортам (cohort) и рассчитываем:\n",
    "\n",
    "total_users: уникальное количество пользователей;\n",
    "\n",
    "total_revenue: суммарную выручку."
   ]
  },
  {
   "cell_type": "code",
   "execution_count": 643,
   "metadata": {},
   "outputs": [],
   "source": [
    "cohort_data = data.groupby(['cohort', 'period_index']).agg(\n",
    "    total_users=('user_id', 'nunique'),\n",
    "    total_revenue=('revenue', 'sum')\n",
    ").reset_index()\n"
   ]
  },
  {
   "cell_type": "markdown",
   "metadata": {},
   "source": [
    "Расчет LTV. \n",
    "\n",
    "LTV рассчитывается как отношение суммарной выручки платящих пользователей (total_revenue_Paying) к их количеству (total_users_Paying) в каждой когорте."
   ]
  },
  {
   "cell_type": "code",
   "execution_count": 644,
   "metadata": {},
   "outputs": [],
   "source": [
    "cohort_data['LTV'] = cohort_data['total_revenue'] / cohort_data['total_users']"
   ]
  },
  {
   "cell_type": "markdown",
   "metadata": {},
   "source": [
    "Отображаем итоговую таблицу для пользователя"
   ]
  },
  {
   "cell_type": "code",
   "execution_count": 645,
   "metadata": {},
   "outputs": [
    {
     "data": {
      "text/html": [
       "<div>\n",
       "<style scoped>\n",
       "    .dataframe tbody tr th:only-of-type {\n",
       "        vertical-align: middle;\n",
       "    }\n",
       "\n",
       "    .dataframe tbody tr th {\n",
       "        vertical-align: top;\n",
       "    }\n",
       "\n",
       "    .dataframe thead th {\n",
       "        text-align: right;\n",
       "    }\n",
       "</style>\n",
       "<table border=\"1\" class=\"dataframe\">\n",
       "  <thead>\n",
       "    <tr style=\"text-align: right;\">\n",
       "      <th></th>\n",
       "      <th>cohort</th>\n",
       "      <th>period_index</th>\n",
       "      <th>total_users</th>\n",
       "      <th>total_revenue</th>\n",
       "      <th>LTV</th>\n",
       "    </tr>\n",
       "  </thead>\n",
       "  <tbody>\n",
       "    <tr>\n",
       "      <th>0</th>\n",
       "      <td>2020-01</td>\n",
       "      <td>0</td>\n",
       "      <td>720</td>\n",
       "      <td>3802.38</td>\n",
       "      <td>5.281083</td>\n",
       "    </tr>\n",
       "    <tr>\n",
       "      <th>1</th>\n",
       "      <td>2020-01</td>\n",
       "      <td>1</td>\n",
       "      <td>107</td>\n",
       "      <td>598.80</td>\n",
       "      <td>5.596262</td>\n",
       "    </tr>\n",
       "    <tr>\n",
       "      <th>2</th>\n",
       "      <td>2020-02</td>\n",
       "      <td>0</td>\n",
       "      <td>1435</td>\n",
       "      <td>7569.83</td>\n",
       "      <td>5.275143</td>\n",
       "    </tr>\n",
       "  </tbody>\n",
       "</table>\n",
       "</div>"
      ],
      "text/plain": [
       "    cohort  period_index  total_users  total_revenue       LTV\n",
       "0  2020-01             0          720        3802.38  5.281083\n",
       "1  2020-01             1          107         598.80  5.596262\n",
       "2  2020-02             0         1435        7569.83  5.275143"
      ]
     },
     "execution_count": 645,
     "metadata": {},
     "output_type": "execute_result"
    }
   ],
   "source": [
    "cohort_data"
   ]
  },
  {
   "cell_type": "markdown",
   "metadata": {},
   "source": [
    "Делаем тепловую карту"
   ]
  },
  {
   "cell_type": "code",
   "execution_count": 646,
   "metadata": {},
   "outputs": [],
   "source": [
    "heatmap_data = cohort_data.pivot(index='cohort', columns='period_index', values='LTV')\n"
   ]
  },
  {
   "cell_type": "code",
   "execution_count": 647,
   "metadata": {},
   "outputs": [
    {
     "data": {
      "image/png": "[encoded data removed]",
      "text/plain": [
       "<Figure size 1000x600 with 2 Axes>"
      ]
     },
     "metadata": {},
     "output_type": "display_data"
    }
   ],
   "source": [
    "plt.figure(figsize=(10, 6))\n",
    "sns.heatmap(heatmap_data, annot=True, fmt=\".2f\", cmap=\"YlGnBu\", cbar=True)\n",
    "plt.title(\"Cohort Analysis: LTV Heatmap (Limited to Jan-Feb 2020)\", fontsize=16)\n",
    "plt.xlabel(\"Period Index (Months)\", fontsize=12)\n",
    "plt.ylabel(\"Cohort (Start Month)\", fontsize=12)\n",
    "plt.xticks(rotation=45)\n",
    "plt.yticks(rotation=0)\n",
    "plt.tight_layout()\n",
    "plt.show()"
   ]
  },
  {
   "cell_type": "markdown",
   "metadata": {},
   "source": [
    "## Задание 1.2"
   ]
  },
  {
   "cell_type": "markdown",
   "metadata": {},
   "source": [
    "Спрогнозировать, каким будет LTV на полгода"
   ]
  },
  {
   "cell_type": "code",
   "execution_count": 648,
   "metadata": {},
   "outputs": [],
   "source": [
    "import pandas as pd\n",
    "import numpy as np\n",
    "from sklearn.linear_model import LinearRegression\n",
    "import matplotlib.pyplot as plt"
   ]
  },
  {
   "cell_type": "code",
   "execution_count": 650,
   "metadata": {},
   "outputs": [],
   "source": [
    "cohort_data['cohort'] = cohort_data['cohort'].astype('datetime64[s]')"
   ]
  },
  {
   "cell_type": "code",
   "execution_count": 651,
   "metadata": {},
   "outputs": [
    {
     "data": {
      "text/html": [
       "<div>\n",
       "<style scoped>\n",
       "    .dataframe tbody tr th:only-of-type {\n",
       "        vertical-align: middle;\n",
       "    }\n",
       "\n",
       "    .dataframe tbody tr th {\n",
       "        vertical-align: top;\n",
       "    }\n",
       "\n",
       "    .dataframe thead th {\n",
       "        text-align: right;\n",
       "    }\n",
       "</style>\n",
       "<table border=\"1\" class=\"dataframe\">\n",
       "  <thead>\n",
       "    <tr style=\"text-align: right;\">\n",
       "      <th></th>\n",
       "      <th>cohort</th>\n",
       "      <th>period_index</th>\n",
       "      <th>total_users</th>\n",
       "      <th>total_revenue</th>\n",
       "      <th>LTV</th>\n",
       "    </tr>\n",
       "  </thead>\n",
       "  <tbody>\n",
       "    <tr>\n",
       "      <th>0</th>\n",
       "      <td>2020-01-01</td>\n",
       "      <td>0</td>\n",
       "      <td>720</td>\n",
       "      <td>3802.38</td>\n",
       "      <td>5.281083</td>\n",
       "    </tr>\n",
       "    <tr>\n",
       "      <th>1</th>\n",
       "      <td>2020-01-01</td>\n",
       "      <td>1</td>\n",
       "      <td>107</td>\n",
       "      <td>598.80</td>\n",
       "      <td>5.596262</td>\n",
       "    </tr>\n",
       "    <tr>\n",
       "      <th>2</th>\n",
       "      <td>2020-02-01</td>\n",
       "      <td>0</td>\n",
       "      <td>1435</td>\n",
       "      <td>7569.83</td>\n",
       "      <td>5.275143</td>\n",
       "    </tr>\n",
       "  </tbody>\n",
       "</table>\n",
       "</div>"
      ],
      "text/plain": [
       "      cohort  period_index  total_users  total_revenue       LTV\n",
       "0 2020-01-01             0          720        3802.38  5.281083\n",
       "1 2020-01-01             1          107         598.80  5.596262\n",
       "2 2020-02-01             0         1435        7569.83  5.275143"
      ]
     },
     "execution_count": 651,
     "metadata": {},
     "output_type": "execute_result"
    }
   ],
   "source": [
    "cohort_data"
   ]
  },
  {
   "cell_type": "markdown",
   "metadata": {},
   "source": [
    "Рссчитаем прогноз на полгода методом линейной регрессии, потому что данных слишком мало для использования более сложных моделей"
   ]
  },
  {
   "cell_type": "code",
   "execution_count": 652,
   "metadata": {},
   "outputs": [],
   "source": [
    "X = cohort_data[['period_index']].values  # Независимая переменная: period_index\n",
    "y = cohort_data['LTV'].values  # Зависимая переменная: LTV\n",
    "\n",
    "# Обучение линейной модели регрессии\n",
    "linear_model = LinearRegression()\n",
    "linear_model.fit(X, y)\n",
    "\n",
    "# Генерация прогнозов для следующих 4 периодов за пределами текущих данных\n",
    "additional_future_periods = np.arange(cohort_data['period_index'].max() + 1, cohort_data['period_index'].max() + 7).reshape(-1, 1)\n",
    "additional_future_ltv_predictions = linear_model.predict(additional_future_periods)\n",
    "\n",
    "# Подготовка данных для дополнительных будущих периодов\n",
    "additional_future_ltv_data = pd.DataFrame({\n",
    "    'future_period_index': additional_future_periods.flatten(),\n",
    "    'predicted_LTV': additional_future_ltv_predictions\n",
    "})\n",
    "# Добавление столбца с соответствующими месяцами для прогнозируемых будущих периодов\n",
    "latest_month = pd.to_datetime(cohort_data['cohort'].iloc[0]) + pd.DateOffset(months=cohort_data['period_index'].max() + 1)\n",
    "additional_future_ltv_data['month'] = [\n",
    "    (latest_month + pd.DateOffset(months=i)).strftime('%Y-%m') \n",
    "    for i in range(len(additional_future_ltv_data))\n",
    "] "
   ]
  },
  {
   "cell_type": "code",
   "execution_count": 653,
   "metadata": {},
   "outputs": [
    {
     "data": {
      "text/html": [
       "<div>\n",
       "<style scoped>\n",
       "    .dataframe tbody tr th:only-of-type {\n",
       "        vertical-align: middle;\n",
       "    }\n",
       "\n",
       "    .dataframe tbody tr th {\n",
       "        vertical-align: top;\n",
       "    }\n",
       "\n",
       "    .dataframe thead th {\n",
       "        text-align: right;\n",
       "    }\n",
       "</style>\n",
       "<table border=\"1\" class=\"dataframe\">\n",
       "  <thead>\n",
       "    <tr style=\"text-align: right;\">\n",
       "      <th></th>\n",
       "      <th>future_period_index</th>\n",
       "      <th>predicted_LTV</th>\n",
       "      <th>month</th>\n",
       "    </tr>\n",
       "  </thead>\n",
       "  <tbody>\n",
       "    <tr>\n",
       "      <th>0</th>\n",
       "      <td>2</td>\n",
       "      <td>5.914410</td>\n",
       "      <td>2020-03</td>\n",
       "    </tr>\n",
       "    <tr>\n",
       "      <th>1</th>\n",
       "      <td>3</td>\n",
       "      <td>6.232559</td>\n",
       "      <td>2020-04</td>\n",
       "    </tr>\n",
       "    <tr>\n",
       "      <th>2</th>\n",
       "      <td>4</td>\n",
       "      <td>6.550707</td>\n",
       "      <td>2020-05</td>\n",
       "    </tr>\n",
       "    <tr>\n",
       "      <th>3</th>\n",
       "      <td>5</td>\n",
       "      <td>6.868856</td>\n",
       "      <td>2020-06</td>\n",
       "    </tr>\n",
       "    <tr>\n",
       "      <th>4</th>\n",
       "      <td>6</td>\n",
       "      <td>7.187005</td>\n",
       "      <td>2020-07</td>\n",
       "    </tr>\n",
       "    <tr>\n",
       "      <th>5</th>\n",
       "      <td>7</td>\n",
       "      <td>7.505153</td>\n",
       "      <td>2020-08</td>\n",
       "    </tr>\n",
       "  </tbody>\n",
       "</table>\n",
       "</div>"
      ],
      "text/plain": [
       "   future_period_index  predicted_LTV    month\n",
       "0                    2       5.914410  2020-03\n",
       "1                    3       6.232559  2020-04\n",
       "2                    4       6.550707  2020-05\n",
       "3                    5       6.868856  2020-06\n",
       "4                    6       7.187005  2020-07\n",
       "5                    7       7.505153  2020-08"
      ]
     },
     "execution_count": 653,
     "metadata": {},
     "output_type": "execute_result"
    }
   ],
   "source": [
    "additional_future_ltv_data"
   ]
  },
  {
   "cell_type": "markdown",
   "metadata": {},
   "source": [
    "## Задание 1.3"
   ]
  },
  {
   "cell_type": "markdown",
   "metadata": {},
   "source": [
    "Построить график, который будет отображать кривую фактического LTV на\n",
    "фоне кривой прогнозируемого LTV\n"
   ]
  },
  {
   "cell_type": "code",
   "execution_count": 654,
   "metadata": {},
   "outputs": [
    {
     "data": {
      "image/png": "[encoded data removed]",
      "text/plain": [
       "<Figure size 1000x600 with 1 Axes>"
      ]
     },
     "metadata": {},
     "output_type": "display_data"
    }
   ],
   "source": [
    "# Используем загруженные данные data1 и data2 вместо несуществующих объектов cohort_data и additional_future_ltv_data\n",
    "cohort_data['period'] = cohort_data['period_index']\n",
    "additional_future_ltv_data['period'] = additional_future_ltv_data['future_period_index']\n",
    "\n",
    "# Готовим данные для графика\n",
    "fact_LTV = cohort_data[['period', 'LTV']]\n",
    "pred_LTV = additional_future_ltv_data[['period', 'predicted_LTV']]\n",
    "\n",
    "# Соединение фактических и прогнозируемых данных для беспрерывной линии\n",
    "last_fact_period = fact_LTV['period'].max()\n",
    "first_pred_period = pred_LTV['period'].min()\n",
    "\n",
    "# Если есть разрыв между периодами, добавляем соединяющую точку\n",
    "if last_fact_period + 1 == first_pred_period:\n",
    "    connection_value = fact_LTV[fact_LTV['period'] == last_fact_period]['LTV'].values[0]\n",
    "    pred_LTV = pd.concat([pd.DataFrame({'period': [last_fact_period], 'predicted_LTV': [connection_value]}), pred_LTV], ignore_index=True)\n",
    "\n",
    "# Построение графика\n",
    "plt.figure(figsize=(10, 6))\n",
    "plt.plot(fact_LTV['period'], fact_LTV['LTV'], label='Фактический LTV', marker='o')\n",
    "plt.plot(pred_LTV['period'], pred_LTV['predicted_LTV'], label='Прогнозируемый LTV', marker='x')\n",
    "plt.title('Сравнение Фактического и Прогнозируемого LTV с соединённой линией')\n",
    "plt.xlabel('Индекс периода')\n",
    "plt.ylabel('LTV')\n",
    "plt.legend()\n",
    "plt.grid()\n",
    "plt.show()\n"
   ]
  },
  {
   "cell_type": "code",
   "execution_count": 655,
   "metadata": {},
   "outputs": [
    {
     "data": {
      "text/html": [
       "<div>\n",
       "<style scoped>\n",
       "    .dataframe tbody tr th:only-of-type {\n",
       "        vertical-align: middle;\n",
       "    }\n",
       "\n",
       "    .dataframe tbody tr th {\n",
       "        vertical-align: top;\n",
       "    }\n",
       "\n",
       "    .dataframe thead th {\n",
       "        text-align: right;\n",
       "    }\n",
       "</style>\n",
       "<table border=\"1\" class=\"dataframe\">\n",
       "  <thead>\n",
       "    <tr style=\"text-align: right;\">\n",
       "      <th></th>\n",
       "      <th>cohort</th>\n",
       "      <th>period_index</th>\n",
       "      <th>total_users</th>\n",
       "      <th>total_revenue</th>\n",
       "      <th>LTV</th>\n",
       "      <th>period</th>\n",
       "    </tr>\n",
       "  </thead>\n",
       "  <tbody>\n",
       "    <tr>\n",
       "      <th>0</th>\n",
       "      <td>2020-01-01</td>\n",
       "      <td>0</td>\n",
       "      <td>720</td>\n",
       "      <td>3802.38</td>\n",
       "      <td>5.281083</td>\n",
       "      <td>0</td>\n",
       "    </tr>\n",
       "    <tr>\n",
       "      <th>1</th>\n",
       "      <td>2020-01-01</td>\n",
       "      <td>1</td>\n",
       "      <td>107</td>\n",
       "      <td>598.80</td>\n",
       "      <td>5.596262</td>\n",
       "      <td>1</td>\n",
       "    </tr>\n",
       "    <tr>\n",
       "      <th>2</th>\n",
       "      <td>2020-02-01</td>\n",
       "      <td>0</td>\n",
       "      <td>1435</td>\n",
       "      <td>7569.83</td>\n",
       "      <td>5.275143</td>\n",
       "      <td>0</td>\n",
       "    </tr>\n",
       "  </tbody>\n",
       "</table>\n",
       "</div>"
      ],
      "text/plain": [
       "      cohort  period_index  total_users  total_revenue       LTV  period\n",
       "0 2020-01-01             0          720        3802.38  5.281083       0\n",
       "1 2020-01-01             1          107         598.80  5.596262       1\n",
       "2 2020-02-01             0         1435        7569.83  5.275143       0"
      ]
     },
     "execution_count": 655,
     "metadata": {},
     "output_type": "execute_result"
    }
   ],
   "source": [
    "cohort_data"
   ]
  },
  {
   "cell_type": "code",
   "execution_count": 656,
   "metadata": {},
   "outputs": [
    {
     "data": {
      "text/html": [
       "<div>\n",
       "<style scoped>\n",
       "    .dataframe tbody tr th:only-of-type {\n",
       "        vertical-align: middle;\n",
       "    }\n",
       "\n",
       "    .dataframe tbody tr th {\n",
       "        vertical-align: top;\n",
       "    }\n",
       "\n",
       "    .dataframe thead th {\n",
       "        text-align: right;\n",
       "    }\n",
       "</style>\n",
       "<table border=\"1\" class=\"dataframe\">\n",
       "  <thead>\n",
       "    <tr style=\"text-align: right;\">\n",
       "      <th></th>\n",
       "      <th>future_period_index</th>\n",
       "      <th>predicted_LTV</th>\n",
       "      <th>month</th>\n",
       "      <th>period</th>\n",
       "    </tr>\n",
       "  </thead>\n",
       "  <tbody>\n",
       "    <tr>\n",
       "      <th>0</th>\n",
       "      <td>2</td>\n",
       "      <td>5.914410</td>\n",
       "      <td>2020-03</td>\n",
       "      <td>2</td>\n",
       "    </tr>\n",
       "    <tr>\n",
       "      <th>1</th>\n",
       "      <td>3</td>\n",
       "      <td>6.232559</td>\n",
       "      <td>2020-04</td>\n",
       "      <td>3</td>\n",
       "    </tr>\n",
       "    <tr>\n",
       "      <th>2</th>\n",
       "      <td>4</td>\n",
       "      <td>6.550707</td>\n",
       "      <td>2020-05</td>\n",
       "      <td>4</td>\n",
       "    </tr>\n",
       "    <tr>\n",
       "      <th>3</th>\n",
       "      <td>5</td>\n",
       "      <td>6.868856</td>\n",
       "      <td>2020-06</td>\n",
       "      <td>5</td>\n",
       "    </tr>\n",
       "    <tr>\n",
       "      <th>4</th>\n",
       "      <td>6</td>\n",
       "      <td>7.187005</td>\n",
       "      <td>2020-07</td>\n",
       "      <td>6</td>\n",
       "    </tr>\n",
       "    <tr>\n",
       "      <th>5</th>\n",
       "      <td>7</td>\n",
       "      <td>7.505153</td>\n",
       "      <td>2020-08</td>\n",
       "      <td>7</td>\n",
       "    </tr>\n",
       "  </tbody>\n",
       "</table>\n",
       "</div>"
      ],
      "text/plain": [
       "   future_period_index  predicted_LTV    month  period\n",
       "0                    2       5.914410  2020-03       2\n",
       "1                    3       6.232559  2020-04       3\n",
       "2                    4       6.550707  2020-05       4\n",
       "3                    5       6.868856  2020-06       5\n",
       "4                    6       7.187005  2020-07       6\n",
       "5                    7       7.505153  2020-08       7"
      ]
     },
     "execution_count": 656,
     "metadata": {},
     "output_type": "execute_result"
    }
   ],
   "source": [
    "additional_future_ltv_data"
   ]
  },
  {
   "cell_type": "markdown",
   "metadata": {},
   "source": [
    "## Задание 1.4"
   ]
  },
  {
   "cell_type": "markdown",
   "metadata": {},
   "source": [
    "Рассчитать ROMI на 4 недели и на полгода, если стоимость привлечения\n",
    "платящего пользователя 6 USD (ROMI нужно брать операционный, а не бухгалтерский,\n",
    "цель: узнать как окупятся наши инвестиции).\n"
   ]
  },
  {
   "cell_type": "code",
   "execution_count": 657,
   "metadata": {},
   "outputs": [
    {
     "data": {
      "text/plain": [
       "(np.float64(6.55070744325768),\n",
       " np.float64(9.178457387628008),\n",
       " np.float64(12.913679183355612),\n",
       " np.float64(115.2279863892602))"
      ]
     },
     "execution_count": 657,
     "metadata": {},
     "output_type": "execute_result"
    }
   ],
   "source": [
    "# Фактические данные (первые 2 месяца)\n",
    "ltv_fact_4_weeks = cohort_data[cohort_data['period'] <= 4]['LTV'].mean()\n",
    "\n",
    "# Используем фактические данные (2 периода) и прогнозируемые данные (до 24 периода)\n",
    "# Прогноз на 4 недели\n",
    "ltv_4_weeks = additional_future_ltv_data[additional_future_ltv_data['future_period_index'] == 4]['predicted_LTV'].mean()\n",
    "\n",
    "# Прогноз на 6 месяцев (экстраполяция уже выполнена)\n",
    "ltv_6_months = ltv_24_weeks_pred\n",
    "\n",
    "# ROMI расчет\n",
    "romi_4_weeks = (ltv_4_weeks - cac) / cac * 100  # ROMI на 4 недели\n",
    "romi_6_months = (ltv_6_months - cac) / cac * 100  # ROMI на полгода\n",
    "\n",
    "ltv_4_weeks, romi_4_weeks, ltv_6_months, romi_6_months\n"
   ]
  },
  {
   "cell_type": "markdown",
   "metadata": {},
   "source": [
    "На основе фактических данных (за первые 2 месяца) и прогноза на 6 месяцев:\n",
    "\n",
    "LTV через 4 недели = 6.55 USD.\n",
    "\n",
    "ROMI через 4 недели = 9.18%.\n",
    "\n",
    "LTV через 6 месяцев (24 недели) = 12.91 USD.\n",
    "\n",
    "ROMI через 6 месяцев = 115.23%."
   ]
  },
  {
   "cell_type": "markdown",
   "metadata": {},
   "source": [
    "## Задание 2.1"
   ]
  },
  {
   "cell_type": "markdown",
   "metadata": {},
   "source": [
    "Написать 2 SQL запроса для поиска значений среднего и медианы по сумме\n",
    "продажи. Сумму транзакции округляем до целой части. Нельзя использовать\n",
    "стандартные функции среднего и медианы в SQL. Можно использовать только агр.\n",
    "функции SUM и COUN\n"
   ]
  },
  {
   "cell_type": "code",
   "execution_count": 658,
   "metadata": {},
   "outputs": [],
   "source": [
    "import pandas as pd\n",
    "from pandasql import sqldf\n",
    "import numpy as np\n",
    "import random "
   ]
  },
  {
   "cell_type": "markdown",
   "metadata": {},
   "source": [
    "Сгенерируем рандомные данные для создания нужных нам датафреймов"
   ]
  },
  {
   "cell_type": "code",
   "execution_count": 659,
   "metadata": {},
   "outputs": [],
   "source": [
    "all_user_ids = np.arange(1, 1001)\n",
    "all_product_ids = np.arange(1, 101)\n",
    "all_amounts =  np.round(np.arange(0, 1000.01, 0.01), 2)\n",
    "all_countries = ['USA', 'Canada', 'Germany', 'France', 'Japan', 'Australia', 'Brazil']\n",
    "event_types = ['install', 'trial', 'purchase']\n",
    "n = 10000\n",
    "user_ids    = np.random.choice(all_user_ids, n)\n",
    "product_ids = np.random.choice(all_product_ids, n)\n",
    "amounts = np.random.choice(all_amounts, n)\n",
    "countries_list = [random.choice(all_countries) for _ in range(n)]\n",
    "event_types_list = [random.choice(event_types) for _ in range(n)]\n",
    "start_date = pd.to_datetime('2020-01-01')\n",
    "times = pd.date_range(start_date, periods=n, freq='1min')"
   ]
  },
  {
   "cell_type": "code",
   "execution_count": 660,
   "metadata": {},
   "outputs": [],
   "source": [
    "orders = pd.DataFrame({'user_id': user_ids, \n",
    "                             'id': product_ids, \n",
    "                             'datetime': times, \n",
    "                             'sale_amount': amounts})"
   ]
  },
  {
   "cell_type": "code",
   "execution_count": 661,
   "metadata": {},
   "outputs": [
    {
     "data": {
      "text/html": [
       "<div>\n",
       "<style scoped>\n",
       "    .dataframe tbody tr th:only-of-type {\n",
       "        vertical-align: middle;\n",
       "    }\n",
       "\n",
       "    .dataframe tbody tr th {\n",
       "        vertical-align: top;\n",
       "    }\n",
       "\n",
       "    .dataframe thead th {\n",
       "        text-align: right;\n",
       "    }\n",
       "</style>\n",
       "<table border=\"1\" class=\"dataframe\">\n",
       "  <thead>\n",
       "    <tr style=\"text-align: right;\">\n",
       "      <th></th>\n",
       "      <th>user_id</th>\n",
       "      <th>id</th>\n",
       "      <th>datetime</th>\n",
       "      <th>sale_amount</th>\n",
       "    </tr>\n",
       "  </thead>\n",
       "  <tbody>\n",
       "    <tr>\n",
       "      <th>0</th>\n",
       "      <td>571</td>\n",
       "      <td>40</td>\n",
       "      <td>2020-01-01 00:00:00</td>\n",
       "      <td>78.17</td>\n",
       "    </tr>\n",
       "    <tr>\n",
       "      <th>1</th>\n",
       "      <td>802</td>\n",
       "      <td>51</td>\n",
       "      <td>2020-01-01 00:01:00</td>\n",
       "      <td>167.52</td>\n",
       "    </tr>\n",
       "    <tr>\n",
       "      <th>2</th>\n",
       "      <td>561</td>\n",
       "      <td>35</td>\n",
       "      <td>2020-01-01 00:02:00</td>\n",
       "      <td>225.06</td>\n",
       "    </tr>\n",
       "    <tr>\n",
       "      <th>3</th>\n",
       "      <td>513</td>\n",
       "      <td>70</td>\n",
       "      <td>2020-01-01 00:03:00</td>\n",
       "      <td>124.63</td>\n",
       "    </tr>\n",
       "    <tr>\n",
       "      <th>4</th>\n",
       "      <td>356</td>\n",
       "      <td>32</td>\n",
       "      <td>2020-01-01 00:04:00</td>\n",
       "      <td>817.18</td>\n",
       "    </tr>\n",
       "    <tr>\n",
       "      <th>...</th>\n",
       "      <td>...</td>\n",
       "      <td>...</td>\n",
       "      <td>...</td>\n",
       "      <td>...</td>\n",
       "    </tr>\n",
       "    <tr>\n",
       "      <th>9995</th>\n",
       "      <td>933</td>\n",
       "      <td>89</td>\n",
       "      <td>2020-01-07 22:35:00</td>\n",
       "      <td>474.06</td>\n",
       "    </tr>\n",
       "    <tr>\n",
       "      <th>9996</th>\n",
       "      <td>812</td>\n",
       "      <td>47</td>\n",
       "      <td>2020-01-07 22:36:00</td>\n",
       "      <td>278.21</td>\n",
       "    </tr>\n",
       "    <tr>\n",
       "      <th>9997</th>\n",
       "      <td>999</td>\n",
       "      <td>56</td>\n",
       "      <td>2020-01-07 22:37:00</td>\n",
       "      <td>3.68</td>\n",
       "    </tr>\n",
       "    <tr>\n",
       "      <th>9998</th>\n",
       "      <td>299</td>\n",
       "      <td>35</td>\n",
       "      <td>2020-01-07 22:38:00</td>\n",
       "      <td>254.08</td>\n",
       "    </tr>\n",
       "    <tr>\n",
       "      <th>9999</th>\n",
       "      <td>470</td>\n",
       "      <td>31</td>\n",
       "      <td>2020-01-07 22:39:00</td>\n",
       "      <td>946.31</td>\n",
       "    </tr>\n",
       "  </tbody>\n",
       "</table>\n",
       "<p>10000 rows × 4 columns</p>\n",
       "</div>"
      ],
      "text/plain": [
       "      user_id  id            datetime  sale_amount\n",
       "0         571  40 2020-01-01 00:00:00        78.17\n",
       "1         802  51 2020-01-01 00:01:00       167.52\n",
       "2         561  35 2020-01-01 00:02:00       225.06\n",
       "3         513  70 2020-01-01 00:03:00       124.63\n",
       "4         356  32 2020-01-01 00:04:00       817.18\n",
       "...       ...  ..                 ...          ...\n",
       "9995      933  89 2020-01-07 22:35:00       474.06\n",
       "9996      812  47 2020-01-07 22:36:00       278.21\n",
       "9997      999  56 2020-01-07 22:37:00         3.68\n",
       "9998      299  35 2020-01-07 22:38:00       254.08\n",
       "9999      470  31 2020-01-07 22:39:00       946.31\n",
       "\n",
       "[10000 rows x 4 columns]"
      ]
     },
     "execution_count": 661,
     "metadata": {},
     "output_type": "execute_result"
    }
   ],
   "source": [
    "orders"
   ]
  },
  {
   "cell_type": "markdown",
   "metadata": {},
   "source": [
    "Запрос поиска среднего"
   ]
  },
  {
   "cell_type": "code",
   "execution_count": 662,
   "metadata": {},
   "outputs": [],
   "source": [
    "q = \"\"\"SELECT \n",
    "    SUM(sale_amount) / COUNT(*) AS average_sale\n",
    "FROM \n",
    "    orders;\n",
    "\n",
    "\"\"\""
   ]
  },
  {
   "cell_type": "code",
   "execution_count": 663,
   "metadata": {},
   "outputs": [
    {
     "data": {
      "text/html": [
       "<div>\n",
       "<style scoped>\n",
       "    .dataframe tbody tr th:only-of-type {\n",
       "        vertical-align: middle;\n",
       "    }\n",
       "\n",
       "    .dataframe tbody tr th {\n",
       "        vertical-align: top;\n",
       "    }\n",
       "\n",
       "    .dataframe thead th {\n",
       "        text-align: right;\n",
       "    }\n",
       "</style>\n",
       "<table border=\"1\" class=\"dataframe\">\n",
       "  <thead>\n",
       "    <tr style=\"text-align: right;\">\n",
       "      <th></th>\n",
       "      <th>average_sale</th>\n",
       "    </tr>\n",
       "  </thead>\n",
       "  <tbody>\n",
       "    <tr>\n",
       "      <th>0</th>\n",
       "      <td>502.37948</td>\n",
       "    </tr>\n",
       "  </tbody>\n",
       "</table>\n",
       "</div>"
      ],
      "text/plain": [
       "   average_sale\n",
       "0     502.37948"
      ]
     },
     "execution_count": 663,
     "metadata": {},
     "output_type": "execute_result"
    }
   ],
   "source": [
    "sqldf(q)"
   ]
  },
  {
   "cell_type": "markdown",
   "metadata": {},
   "source": [
    "Запрос поиска медианы"
   ]
  },
  {
   "cell_type": "code",
   "execution_count": 664,
   "metadata": {},
   "outputs": [],
   "source": [
    "q = \"\"\"WITH OrderedSales AS (\n",
    "    SELECT \n",
    "        sale_amount,\n",
    "        ROW_NUMBER() OVER (ORDER BY sale_amount) AS rn,\n",
    "        COUNT(*) OVER () AS total_count\n",
    "    FROM \n",
    "        orders\n",
    "),\n",
    "MedianCalc AS (\n",
    "    SELECT \n",
    "        sale_amount AS median_value\n",
    "    FROM \n",
    "        OrderedSales\n",
    "    WHERE \n",
    "        rn = (total_count + 1) / 2 -- Для нечётного количества записей\n",
    "    UNION ALL\n",
    "    SELECT \n",
    "        AVG(sale_amount) AS median_value\n",
    "    FROM \n",
    "        OrderedSales\n",
    "    WHERE \n",
    "        rn IN (total_count / 2, total_count / 2 + 1) -- Для чётного количества записей\n",
    ")\n",
    "SELECT \n",
    "    ROUND(AVG(median_value)) AS median_sale\n",
    "FROM \n",
    "    MedianCalc;\n",
    "\"\"\""
   ]
  },
  {
   "cell_type": "code",
   "execution_count": 665,
   "metadata": {},
   "outputs": [
    {
     "data": {
      "text/html": [
       "<div>\n",
       "<style scoped>\n",
       "    .dataframe tbody tr th:only-of-type {\n",
       "        vertical-align: middle;\n",
       "    }\n",
       "\n",
       "    .dataframe tbody tr th {\n",
       "        vertical-align: top;\n",
       "    }\n",
       "\n",
       "    .dataframe thead th {\n",
       "        text-align: right;\n",
       "    }\n",
       "</style>\n",
       "<table border=\"1\" class=\"dataframe\">\n",
       "  <thead>\n",
       "    <tr style=\"text-align: right;\">\n",
       "      <th></th>\n",
       "      <th>median_sale</th>\n",
       "    </tr>\n",
       "  </thead>\n",
       "  <tbody>\n",
       "    <tr>\n",
       "      <th>0</th>\n",
       "      <td>505.0</td>\n",
       "    </tr>\n",
       "  </tbody>\n",
       "</table>\n",
       "</div>"
      ],
      "text/plain": [
       "   median_sale\n",
       "0        505.0"
      ]
     },
     "execution_count": 665,
     "metadata": {},
     "output_type": "execute_result"
    }
   ],
   "source": [
    "sqldf(q)"
   ]
  },
  {
   "cell_type": "markdown",
   "metadata": {},
   "source": [
    "## Задание 2.2"
   ]
  },
  {
   "cell_type": "markdown",
   "metadata": {},
   "source": [
    "Написать SQL-запрос для поиска задублированных в результате ошибки\n",
    "транзакций"
   ]
  },
  {
   "cell_type": "code",
   "execution_count": 666,
   "metadata": {},
   "outputs": [],
   "source": [
    "purchases = pd.DataFrame({'user_id': user_ids, \n",
    "                             'transaction_id': product_ids, \n",
    "                             'datetime': times, \n",
    "                             'amount': amounts})"
   ]
  },
  {
   "cell_type": "code",
   "execution_count": 667,
   "metadata": {},
   "outputs": [
    {
     "data": {
      "text/html": [
       "<div>\n",
       "<style scoped>\n",
       "    .dataframe tbody tr th:only-of-type {\n",
       "        vertical-align: middle;\n",
       "    }\n",
       "\n",
       "    .dataframe tbody tr th {\n",
       "        vertical-align: top;\n",
       "    }\n",
       "\n",
       "    .dataframe thead th {\n",
       "        text-align: right;\n",
       "    }\n",
       "</style>\n",
       "<table border=\"1\" class=\"dataframe\">\n",
       "  <thead>\n",
       "    <tr style=\"text-align: right;\">\n",
       "      <th></th>\n",
       "      <th>user_id</th>\n",
       "      <th>transaction_id</th>\n",
       "      <th>datetime</th>\n",
       "      <th>amount</th>\n",
       "    </tr>\n",
       "  </thead>\n",
       "  <tbody>\n",
       "    <tr>\n",
       "      <th>0</th>\n",
       "      <td>571</td>\n",
       "      <td>40</td>\n",
       "      <td>2020-01-01 00:00:00</td>\n",
       "      <td>78.17</td>\n",
       "    </tr>\n",
       "    <tr>\n",
       "      <th>1</th>\n",
       "      <td>802</td>\n",
       "      <td>51</td>\n",
       "      <td>2020-01-01 00:01:00</td>\n",
       "      <td>167.52</td>\n",
       "    </tr>\n",
       "    <tr>\n",
       "      <th>2</th>\n",
       "      <td>561</td>\n",
       "      <td>35</td>\n",
       "      <td>2020-01-01 00:02:00</td>\n",
       "      <td>225.06</td>\n",
       "    </tr>\n",
       "    <tr>\n",
       "      <th>3</th>\n",
       "      <td>513</td>\n",
       "      <td>70</td>\n",
       "      <td>2020-01-01 00:03:00</td>\n",
       "      <td>124.63</td>\n",
       "    </tr>\n",
       "    <tr>\n",
       "      <th>4</th>\n",
       "      <td>356</td>\n",
       "      <td>32</td>\n",
       "      <td>2020-01-01 00:04:00</td>\n",
       "      <td>817.18</td>\n",
       "    </tr>\n",
       "    <tr>\n",
       "      <th>...</th>\n",
       "      <td>...</td>\n",
       "      <td>...</td>\n",
       "      <td>...</td>\n",
       "      <td>...</td>\n",
       "    </tr>\n",
       "    <tr>\n",
       "      <th>9995</th>\n",
       "      <td>933</td>\n",
       "      <td>89</td>\n",
       "      <td>2020-01-07 22:35:00</td>\n",
       "      <td>474.06</td>\n",
       "    </tr>\n",
       "    <tr>\n",
       "      <th>9996</th>\n",
       "      <td>812</td>\n",
       "      <td>47</td>\n",
       "      <td>2020-01-07 22:36:00</td>\n",
       "      <td>278.21</td>\n",
       "    </tr>\n",
       "    <tr>\n",
       "      <th>9997</th>\n",
       "      <td>999</td>\n",
       "      <td>56</td>\n",
       "      <td>2020-01-07 22:37:00</td>\n",
       "      <td>3.68</td>\n",
       "    </tr>\n",
       "    <tr>\n",
       "      <th>9998</th>\n",
       "      <td>299</td>\n",
       "      <td>35</td>\n",
       "      <td>2020-01-07 22:38:00</td>\n",
       "      <td>254.08</td>\n",
       "    </tr>\n",
       "    <tr>\n",
       "      <th>9999</th>\n",
       "      <td>470</td>\n",
       "      <td>31</td>\n",
       "      <td>2020-01-07 22:39:00</td>\n",
       "      <td>946.31</td>\n",
       "    </tr>\n",
       "  </tbody>\n",
       "</table>\n",
       "<p>10000 rows × 4 columns</p>\n",
       "</div>"
      ],
      "text/plain": [
       "      user_id  transaction_id            datetime  amount\n",
       "0         571              40 2020-01-01 00:00:00   78.17\n",
       "1         802              51 2020-01-01 00:01:00  167.52\n",
       "2         561              35 2020-01-01 00:02:00  225.06\n",
       "3         513              70 2020-01-01 00:03:00  124.63\n",
       "4         356              32 2020-01-01 00:04:00  817.18\n",
       "...       ...             ...                 ...     ...\n",
       "9995      933              89 2020-01-07 22:35:00  474.06\n",
       "9996      812              47 2020-01-07 22:36:00  278.21\n",
       "9997      999              56 2020-01-07 22:37:00    3.68\n",
       "9998      299              35 2020-01-07 22:38:00  254.08\n",
       "9999      470              31 2020-01-07 22:39:00  946.31\n",
       "\n",
       "[10000 rows x 4 columns]"
      ]
     },
     "execution_count": 667,
     "metadata": {},
     "output_type": "execute_result"
    }
   ],
   "source": [
    "purchases"
   ]
  },
  {
   "cell_type": "code",
   "execution_count": 668,
   "metadata": {},
   "outputs": [],
   "source": [
    "q = \"\"\"SELECT \n",
    "    transaction_id,\n",
    "    datetime,\n",
    "    amount,\n",
    "    user_id,\n",
    "    COUNT(*) AS duplicate_count\n",
    "FROM \n",
    "    purchases\n",
    "GROUP BY \n",
    "    datetime, \n",
    "    amount, \n",
    "    user_id\n",
    "HAVING \n",
    "    COUNT(*) > 1;\n",
    "\"\"\""
   ]
  },
  {
   "cell_type": "code",
   "execution_count": 669,
   "metadata": {},
   "outputs": [
    {
     "data": {
      "text/html": [
       "<div>\n",
       "<style scoped>\n",
       "    .dataframe tbody tr th:only-of-type {\n",
       "        vertical-align: middle;\n",
       "    }\n",
       "\n",
       "    .dataframe tbody tr th {\n",
       "        vertical-align: top;\n",
       "    }\n",
       "\n",
       "    .dataframe thead th {\n",
       "        text-align: right;\n",
       "    }\n",
       "</style>\n",
       "<table border=\"1\" class=\"dataframe\">\n",
       "  <thead>\n",
       "    <tr style=\"text-align: right;\">\n",
       "      <th></th>\n",
       "      <th>transaction_id</th>\n",
       "      <th>datetime</th>\n",
       "      <th>amount</th>\n",
       "      <th>user_id</th>\n",
       "      <th>duplicate_count</th>\n",
       "    </tr>\n",
       "  </thead>\n",
       "  <tbody>\n",
       "  </tbody>\n",
       "</table>\n",
       "</div>"
      ],
      "text/plain": [
       "Empty DataFrame\n",
       "Columns: [transaction_id, datetime, amount, user_id, duplicate_count]\n",
       "Index: []"
      ]
     },
     "execution_count": 669,
     "metadata": {},
     "output_type": "execute_result"
    }
   ],
   "source": [
    "sqldf(q)"
   ]
  },
  {
   "cell_type": "markdown",
   "metadata": {},
   "source": [
    "## Задание 2.3"
   ]
  },
  {
   "cell_type": "markdown",
   "metadata": {},
   "source": [
    "Написать SQL-запрос для построения воронки перехода из установки в\n",
    "оформление пробного периода и в покупку платной версии приложения в разрезе\n",
    "стран. На одного юзера возможна только одно оформление пробного периода и одна\n",
    "покупка платной версии. Покупка возможна только после истечения срока пробного\n",
    "периода. На выходе должна получится таблица с колонками “country”, “installs”, “trials”,\n",
    "“purchases”, “conversion_rate_to_trial”, “conversion_rate_to_purchase”\n"
   ]
  },
  {
   "cell_type": "code",
   "execution_count": 670,
   "metadata": {},
   "outputs": [],
   "source": [
    "events = pd.DataFrame({'user_id': user_ids, \n",
    "                             'transaction_id': product_ids, \n",
    "                             'datetime': times, \n",
    "                             'country': countries_list,\n",
    "                             'event_type': event_types_list})"
   ]
  },
  {
   "cell_type": "code",
   "execution_count": 671,
   "metadata": {},
   "outputs": [],
   "source": [
    "q = \"\"\"WITH user_events AS (\n",
    "    SELECT\n",
    "        user_id,\n",
    "        country,\n",
    "        MAX(CASE WHEN event_type = 'install' THEN datetime END) AS install_date,\n",
    "        MAX(CASE WHEN event_type = 'trial' THEN datetime END) AS trial_date,\n",
    "        MAX(CASE WHEN event_type = 'purchase' THEN datetime END) AS purchase_date\n",
    "    FROM events\n",
    "    GROUP BY user_id, country\n",
    "),\n",
    "filtered_events AS (\n",
    "    SELECT\n",
    "        country,\n",
    "        COUNT(DISTINCT user_id) FILTER (WHERE install_date IS NOT NULL) AS installs,\n",
    "        COUNT(DISTINCT user_id) FILTER (WHERE trial_date IS NOT NULL AND trial_date > install_date) AS trials,\n",
    "        COUNT(DISTINCT user_id) FILTER (WHERE purchase_date IS NOT NULL AND purchase_date > trial_date) AS purchases\n",
    "    FROM user_events\n",
    "    GROUP BY country\n",
    ")\n",
    "SELECT\n",
    "    country,\n",
    "    installs,\n",
    "    trials,\n",
    "    purchases,\n",
    "    ROUND(CASE WHEN installs > 0 THEN (trials * 100.0 / installs) ELSE 0 END, 2) AS conversion_rate_to_trial,\n",
    "    ROUND(CASE WHEN installs > 0 THEN (purchases * 100.0 / installs) ELSE 0 END, 2) AS conversion_rate_to_purchase\n",
    "FROM filtered_events\n",
    "ORDER BY country;\n",
    "\"\"\""
   ]
  },
  {
   "cell_type": "code",
   "execution_count": 672,
   "metadata": {},
   "outputs": [
    {
     "data": {
      "text/html": [
       "<div>\n",
       "<style scoped>\n",
       "    .dataframe tbody tr th:only-of-type {\n",
       "        vertical-align: middle;\n",
       "    }\n",
       "\n",
       "    .dataframe tbody tr th {\n",
       "        vertical-align: top;\n",
       "    }\n",
       "\n",
       "    .dataframe thead th {\n",
       "        text-align: right;\n",
       "    }\n",
       "</style>\n",
       "<table border=\"1\" class=\"dataframe\">\n",
       "  <thead>\n",
       "    <tr style=\"text-align: right;\">\n",
       "      <th></th>\n",
       "      <th>country</th>\n",
       "      <th>installs</th>\n",
       "      <th>trials</th>\n",
       "      <th>purchases</th>\n",
       "      <th>conversion_rate_to_trial</th>\n",
       "      <th>conversion_rate_to_purchase</th>\n",
       "    </tr>\n",
       "  </thead>\n",
       "  <tbody>\n",
       "    <tr>\n",
       "      <th>0</th>\n",
       "      <td>Australia</td>\n",
       "      <td>393</td>\n",
       "      <td>68</td>\n",
       "      <td>77</td>\n",
       "      <td>17.30</td>\n",
       "      <td>19.59</td>\n",
       "    </tr>\n",
       "    <tr>\n",
       "      <th>1</th>\n",
       "      <td>Brazil</td>\n",
       "      <td>409</td>\n",
       "      <td>75</td>\n",
       "      <td>73</td>\n",
       "      <td>18.34</td>\n",
       "      <td>17.85</td>\n",
       "    </tr>\n",
       "    <tr>\n",
       "      <th>2</th>\n",
       "      <td>Canada</td>\n",
       "      <td>399</td>\n",
       "      <td>77</td>\n",
       "      <td>64</td>\n",
       "      <td>19.30</td>\n",
       "      <td>16.04</td>\n",
       "    </tr>\n",
       "    <tr>\n",
       "      <th>3</th>\n",
       "      <td>France</td>\n",
       "      <td>376</td>\n",
       "      <td>66</td>\n",
       "      <td>70</td>\n",
       "      <td>17.55</td>\n",
       "      <td>18.62</td>\n",
       "    </tr>\n",
       "    <tr>\n",
       "      <th>4</th>\n",
       "      <td>Germany</td>\n",
       "      <td>363</td>\n",
       "      <td>70</td>\n",
       "      <td>62</td>\n",
       "      <td>19.28</td>\n",
       "      <td>17.08</td>\n",
       "    </tr>\n",
       "    <tr>\n",
       "      <th>5</th>\n",
       "      <td>Japan</td>\n",
       "      <td>363</td>\n",
       "      <td>76</td>\n",
       "      <td>75</td>\n",
       "      <td>20.94</td>\n",
       "      <td>20.66</td>\n",
       "    </tr>\n",
       "    <tr>\n",
       "      <th>6</th>\n",
       "      <td>USA</td>\n",
       "      <td>377</td>\n",
       "      <td>68</td>\n",
       "      <td>76</td>\n",
       "      <td>18.04</td>\n",
       "      <td>20.16</td>\n",
       "    </tr>\n",
       "  </tbody>\n",
       "</table>\n",
       "</div>"
      ],
      "text/plain": [
       "     country  installs  trials  purchases  conversion_rate_to_trial  \\\n",
       "0  Australia       393      68         77                     17.30   \n",
       "1     Brazil       409      75         73                     18.34   \n",
       "2     Canada       399      77         64                     19.30   \n",
       "3     France       376      66         70                     17.55   \n",
       "4    Germany       363      70         62                     19.28   \n",
       "5      Japan       363      76         75                     20.94   \n",
       "6        USA       377      68         76                     18.04   \n",
       "\n",
       "   conversion_rate_to_purchase  \n",
       "0                        19.59  \n",
       "1                        17.85  \n",
       "2                        16.04  \n",
       "3                        18.62  \n",
       "4                        17.08  \n",
       "5                        20.66  \n",
       "6                        20.16  "
      ]
     },
     "execution_count": 672,
     "metadata": {},
     "output_type": "execute_result"
    }
   ],
   "source": [
    "sqldf(q)"
   ]
  },
  {
   "cell_type": "markdown",
   "metadata": {},
   "source": [
    "## Задание 3"
   ]
  },
  {
   "cell_type": "markdown",
   "metadata": {},
   "source": [
    "Продуктовый менеджер сформировал гипотезу, что новая версия экрана продаж будет\n",
    "лучше перформить по сравнению со старой, в связи с тем, что на новом экране продаж\n",
    "более понятно описаны преимущества платной версии приложения.\n",
    "Продуктовый менеджер ожидает увеличение уровня конверсии из установки в покупку\n",
    "платной версии приложения. Приложение тем временем уже очень активно\n",
    "продвигается на рынке, каждый день привлекается в среднем по 30 000 новых\n",
    "пользователей, текущий уровень конверсии из установки в покупку 5%.\n",
    "Как бы вы предложили проверить данную гипотезу, какие инструменты и тесты бы\n",
    "использовали в процессе проверки?"
   ]
  },
  {
   "cell_type": "markdown",
   "metadata": {},
   "source": [
    "1. Формулировка гипотезы\n",
    "\n",
    "Нулевая гипотеза (H₀): Уровень конверсии из установки в покупку в новой версии экрана (Группа B) равен уровню \n",
    "конверсии в текущей версии экрана (Группа A).\n",
    "\n",
    "Альтернативная гипотеза (H₁): Уровень конверсии из установки в покупку в новой версии экрана (Группа B) выше, чем в текущей версии экрана (Группа A).\n",
    "\n",
    "2. Определение метрики\n",
    "\n",
    "Основная метрика: Конверсия из установки в покупку платной версии (в %).\n",
    "\n",
    "Вспомогательные метрики:\n",
    "\n",
    "Retention пользователей (удержание на определённый срок).\n",
    "\n",
    "Средний чек (если есть варианты оплаты).\n",
    "\n",
    "Отказ от использования приложения.\n",
    "\n",
    "3. Дизайн эксперимента\n",
    "\n",
    "Разделение пользователей на группы:\n",
    "\n",
    "\n",
    "\n",
    "Группа A: 50% новых пользователей видят старую версию экрана продаж.\n",
    "\n",
    "Группа B: 50% новых пользователей видят новую версию экрана.\n",
    "\n",
    "Деление пользователей должно быть случайным, чтобы исключить систематические ошибки.\n",
    "\n",
    "Объём выборки:\n",
    "\n",
    "\n",
    "\n",
    "Текущая конверсия составляет 5%, то есть из 30 000 пользователей ежедневно совершают покупку 1 500 человек.\n",
    "\n",
    "Для статистически значимого результата можно воспользоваться калькулятором размера выборки. Например, при ожидаемом приросте конверсии на 10% (с 5% до 5.5%) потребуется выборка около 10 000 пользователей на группу (для доверительного уровня 95% и мощности теста 80%).\n",
    "\n",
    "Длительность эксперимента:\n",
    "\n",
    "\n",
    "\n",
    "С учётом привлечения 30 000 пользователей в день, потребуется 1-2 дня для набора достаточного объёма данных.\n",
    "\n",
    "4. Проведение эксперимента\n",
    "\n",
    "Настроить A/B-тестирование через платформу аналитики (например, Firebase, Amplitude, Mixpanel или собственный инструмент).\n",
    "\n",
    "Собрать данные о поведении пользователей и уровне конверсии для каждой группы.\n",
    "\n",
    "5. Анализ результатов\n",
    "\n",
    "Статистический тест:\n",
    "\n",
    "\n",
    "\n",
    "Использовать z-тест или t-тест для сравнения пропорций в двух группах.\n",
    "\n",
    "Проверить p-value. Если p-value < 0.05, отклоняем нулевую гипотезу и принимаем, что новая версия экрана лучше.\n",
    "\n",
    "Дополнительный анализ:\n",
    "\n",
    "\n",
    "\n",
    "Проверить, есть ли различия в поведении разных сегментов пользователей (например, по географии, устройству или другим характеристикам).\n",
    "\n",
    "6. Принятие решения\n",
    "\n",
    "Если новая версия экрана статистически значимо увеличивает конверсию, её стоит внедрить для всех пользователей.\n",
    "\n",
    "Если результат незначим или конверсия снижается, оставить текущую версию экрана.\n",
    "\n",
    "Инструменты для проверки\n",
    "\n",
    "Сбор данных: Firebase, Amplitude, Mixpanel.\n",
    "\n",
    "Анализ данных: Python, R, Excel или встроенные инструменты аналитики.\n",
    "\n",
    "Визуализация: Tableau, Power BI.\n",
    "\n"
   ]
  }
 ],
 "metadata": {
  "kernelspec": {
   "display_name": "Python 3",
   "language": "python",
   "name": "python3"
  },
  "language_info": {
   "codemirror_mode": {
    "name": "ipython",
    "version": 3
   },
   "file_extension": ".py",
   "mimetype": "text/x-python",
   "name": "python",
   "nbconvert_exporter": "python",
   "pygments_lexer": "ipython3",
   "version": "3.12.7"
  }
 },
 "nbformat": 4,
 "nbformat_minor": 2
}
